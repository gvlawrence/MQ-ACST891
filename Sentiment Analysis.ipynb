{
 "cells": [
  {
   "cell_type": "markdown",
   "metadata": {},
   "source": [
    "## Sentiment Analysis of Political Tweets\n",
    "\n",
    "As discussed in class, sentiment analysis tries to measure the positive or negative sentiment expressed in a message.  It is commonly used to track the mood of the nation on all kinds of topics through the analysis of Twitter data.  \n",
    "\n",
    "This is a simple example of using the NLTK sentiment analysis package to look at sentiment of tweets about the NSW Liberal and Labor parties.  Unfortunately I've not been able to collect very much data from twitter because of their rate limits, so we only have around 250 tweets in each case.  However, we can use this as a sample to test the basic methodology.\n",
    "\n",
    "First we'll read in the tweets from a CSV file:"
   ]
  },
  {
   "cell_type": "code",
   "execution_count": 8,
   "metadata": {},
   "outputs": [
    {
     "data": {
      "text/html": [
       "<div>\n",
       "<style scoped>\n",
       "    .dataframe tbody tr th:only-of-type {\n",
       "        vertical-align: middle;\n",
       "    }\n",
       "\n",
       "    .dataframe tbody tr th {\n",
       "        vertical-align: top;\n",
       "    }\n",
       "\n",
       "    .dataframe thead th {\n",
       "        text-align: right;\n",
       "    }\n",
       "</style>\n",
       "<table border=\"1\" class=\"dataframe\">\n",
       "  <thead>\n",
       "    <tr style=\"text-align: right;\">\n",
       "      <th></th>\n",
       "      <th>created</th>\n",
       "      <th>text</th>\n",
       "    </tr>\n",
       "  </thead>\n",
       "  <tbody>\n",
       "    <tr>\n",
       "      <th>0</th>\n",
       "      <td>Thu Oct 12 10:28:13 +0000 2017</td>\n",
       "      <td>@WesFangNats @keredm @sffAustralia I'd hazard ...</td>\n",
       "    </tr>\n",
       "    <tr>\n",
       "      <th>1</th>\n",
       "      <td>Thu Oct 12 07:39:23 +0000 2017</td>\n",
       "      <td>RT @venusboy1977: @AustralianLabor @RoseBrenna...</td>\n",
       "    </tr>\n",
       "    <tr>\n",
       "      <th>2</th>\n",
       "      <td>Thu Oct 12 07:31:30 +0000 2017</td>\n",
       "      <td>@AustralianLabor @RoseBrennan12 @BernardKeane ...</td>\n",
       "    </tr>\n",
       "    <tr>\n",
       "      <th>3</th>\n",
       "      <td>Thu Oct 12 06:43:38 +0000 2017</td>\n",
       "      <td>The latest The Wollongong Happenings Daily! ht...</td>\n",
       "    </tr>\n",
       "    <tr>\n",
       "      <th>4</th>\n",
       "      <td>Thu Oct 12 05:38:03 +0000 2017</td>\n",
       "      <td>@sffAustralia @NSWNationals @LiberalNSW Two of...</td>\n",
       "    </tr>\n",
       "  </tbody>\n",
       "</table>\n",
       "</div>"
      ],
      "text/plain": [
       "                          created  \\\n",
       "0  Thu Oct 12 10:28:13 +0000 2017   \n",
       "1  Thu Oct 12 07:39:23 +0000 2017   \n",
       "2  Thu Oct 12 07:31:30 +0000 2017   \n",
       "3  Thu Oct 12 06:43:38 +0000 2017   \n",
       "4  Thu Oct 12 05:38:03 +0000 2017   \n",
       "\n",
       "                                                text  \n",
       "0  @WesFangNats @keredm @sffAustralia I'd hazard ...  \n",
       "1  RT @venusboy1977: @AustralianLabor @RoseBrenna...  \n",
       "2  @AustralianLabor @RoseBrennan12 @BernardKeane ...  \n",
       "3  The latest The Wollongong Happenings Daily! ht...  \n",
       "4  @sffAustralia @NSWNationals @LiberalNSW Two of...  "
      ]
     },
     "execution_count": 8,
     "metadata": {},
     "output_type": "execute_result"
    }
   ],
   "source": [
    "import pandas as pd\n",
    "import nltk\n",
    "from nltk.sentiment.vader import SentimentIntensityAnalyzer\n",
    "%matplotlib inline \n",
    "\n",
    "liberal = pd.read_csv('files/nswliberal.csv')\n",
    "labor = pd.read_csv('files/nswlabor.csv')\n",
    "liberal.head()"
   ]
  },
  {
   "cell_type": "markdown",
   "metadata": {},
   "source": [
    "We can use the NLTK python package to do sentiment analysis.  It contains all of the tools you need to build your own analyisis engine based on training data you have labelled yourself, but it also has a pre-built sentiment analysis engine called [VADER](http://t-redactyl.io/blog/2017/04/using-vader-to-handle-sentiment-analysis-with-social-media-text.html).  VADER uses word lists of positive and negative words and returns a set of ratings that count the proportion of positive and negative words in a text.  A final metric *compound* is a combination score that is +1 for a very positive text and -1 for a negative one.  \n",
    "\n",
    "We first need to download the lexicon (word list) for NLTK to work, we then make a sentiment analyser and apply it to every row of the data with the apply method.  "
   ]
  },
  {
   "cell_type": "code",
   "execution_count": 10,
   "metadata": {},
   "outputs": [
    {
     "name": "stdout",
     "output_type": "stream",
     "text": [
      "[nltk_data] Downloading package vader_lexicon to\n",
      "[nltk_data]     C:\\Users\\jc498673\\AppData\\Roaming\\nltk_data...\n",
      "[nltk_data]   Package vader_lexicon is already up-to-date!\n"
     ]
    }
   ],
   "source": [
    "nltk.download('vader_lexicon')\n",
    "sid = SentimentIntensityAnalyzer()\n",
    "\n",
    "liberal_sent = liberal.apply(lambda r: sid.polarity_scores(r.text), axis=1)\n",
    "labor_sent = labor.apply(lambda r: sid.polarity_scores(r.text), axis=1)"
   ]
  },
  {
   "cell_type": "code",
   "execution_count": 11,
   "metadata": {},
   "outputs": [
    {
     "data": {
      "text/html": [
       "<div>\n",
       "<style scoped>\n",
       "    .dataframe tbody tr th:only-of-type {\n",
       "        vertical-align: middle;\n",
       "    }\n",
       "\n",
       "    .dataframe tbody tr th {\n",
       "        vertical-align: top;\n",
       "    }\n",
       "\n",
       "    .dataframe thead th {\n",
       "        text-align: right;\n",
       "    }\n",
       "</style>\n",
       "<table border=\"1\" class=\"dataframe\">\n",
       "  <thead>\n",
       "    <tr style=\"text-align: right;\">\n",
       "      <th></th>\n",
       "      <th>created</th>\n",
       "      <th>text</th>\n",
       "      <th>compound</th>\n",
       "      <th>neg</th>\n",
       "      <th>neu</th>\n",
       "      <th>pos</th>\n",
       "    </tr>\n",
       "  </thead>\n",
       "  <tbody>\n",
       "    <tr>\n",
       "      <th>0</th>\n",
       "      <td>Thu Oct 12 20:27:43 +0000 2017</td>\n",
       "      <td>#GladysBerejiklian Donations For Access Rife i...</td>\n",
       "      <td>0.0000</td>\n",
       "      <td>0.000</td>\n",
       "      <td>1.000</td>\n",
       "      <td>0.000</td>\n",
       "    </tr>\n",
       "    <tr>\n",
       "      <th>1</th>\n",
       "      <td>Thu Oct 12 20:10:27 +0000 2017</td>\n",
       "      <td>I don’t think @NSWLabor got the message on gun...</td>\n",
       "      <td>-0.3400</td>\n",
       "      <td>0.124</td>\n",
       "      <td>0.876</td>\n",
       "      <td>0.000</td>\n",
       "    </tr>\n",
       "    <tr>\n",
       "      <th>2</th>\n",
       "      <td>Thu Oct 12 10:01:23 +0000 2017</td>\n",
       "      <td>@stukhan @NSWLabor But it makes for one hell o...</td>\n",
       "      <td>-0.8316</td>\n",
       "      <td>0.464</td>\n",
       "      <td>0.536</td>\n",
       "      <td>0.000</td>\n",
       "    </tr>\n",
       "    <tr>\n",
       "      <th>3</th>\n",
       "      <td>Thu Oct 12 08:58:52 +0000 2017</td>\n",
       "      <td>.@NSWLabor supports keeping Springvale mine op...</td>\n",
       "      <td>-0.3898</td>\n",
       "      <td>0.168</td>\n",
       "      <td>0.745</td>\n",
       "      <td>0.087</td>\n",
       "    </tr>\n",
       "    <tr>\n",
       "      <th>4</th>\n",
       "      <td>Thu Oct 12 07:52:19 +0000 2017</td>\n",
       "      <td>RT @NSWLabor: What do you think ? https://t.co...</td>\n",
       "      <td>0.0000</td>\n",
       "      <td>0.000</td>\n",
       "      <td>1.000</td>\n",
       "      <td>0.000</td>\n",
       "    </tr>\n",
       "  </tbody>\n",
       "</table>\n",
       "</div>"
      ],
      "text/plain": [
       "                          created  \\\n",
       "0  Thu Oct 12 20:27:43 +0000 2017   \n",
       "1  Thu Oct 12 20:10:27 +0000 2017   \n",
       "2  Thu Oct 12 10:01:23 +0000 2017   \n",
       "3  Thu Oct 12 08:58:52 +0000 2017   \n",
       "4  Thu Oct 12 07:52:19 +0000 2017   \n",
       "\n",
       "                                                text  compound    neg    neu  \\\n",
       "0  #GladysBerejiklian Donations For Access Rife i...    0.0000  0.000  1.000   \n",
       "1  I don’t think @NSWLabor got the message on gun...   -0.3400  0.124  0.876   \n",
       "2  @stukhan @NSWLabor But it makes for one hell o...   -0.8316  0.464  0.536   \n",
       "3  .@NSWLabor supports keeping Springvale mine op...   -0.3898  0.168  0.745   \n",
       "4  RT @NSWLabor: What do you think ? https://t.co...    0.0000  0.000  1.000   \n",
       "\n",
       "     pos  \n",
       "0  0.000  \n",
       "1  0.000  \n",
       "2  0.000  \n",
       "3  0.087  \n",
       "4  0.000  "
      ]
     },
     "execution_count": 11,
     "metadata": {},
     "output_type": "execute_result"
    }
   ],
   "source": [
    "# turn the result into a data frame and add as columns to the original data\n",
    "df = pd.DataFrame(list(liberal_sent))\n",
    "liberal_s = liberal.join(df)\n",
    "\n",
    "df = pd.DataFrame(list(labor_sent))\n",
    "labor_s = labor.join(df)\n",
    "\n",
    "labor_s.head()"
   ]
  },
  {
   "cell_type": "markdown",
   "metadata": {},
   "source": [
    "So, now you have sentiment data for the NSW Liberal and Labor parties.  Your task now is to generate some useful intelligence from this data.   You might ask:\n",
    "\n",
    "- what is the spread of sentiment for each party\n",
    "- who is ahead on the sentiment scale - how do they compare?\n",
    "- what are the most positive and negative issues in each case?\n",
    "\n",
    "Your checkpoint this week is to show us a useful plot or summary statistic based on this data along with your interpretation."
   ]
  },
  {
   "cell_type": "code",
   "execution_count": 12,
   "metadata": {},
   "outputs": [
    {
     "data": {
      "image/png": "[encoded data removed]",
      "text/plain": [
       "<Figure size 432x288 with 1 Axes>"
      ]
     },
     "metadata": {},
     "output_type": "display_data"
    }
   ],
   "source": [
    "box_sl = labor_s['pos'].plot(kind=\"hist\", title=\"a\")\n",
    "box_sw = liberal_s['pos'].plot(kind=\"hist\", title=\"A\")"
   ]
  },
  {
   "cell_type": "code",
   "execution_count": 13,
   "metadata": {},
   "outputs": [
    {
     "name": "stderr",
     "output_type": "stream",
     "text": [
      "C:\\Users\\jc498673\\AppData\\Local\\Continuum\\anaconda3\\envs\\COMP257\\lib\\site-packages\\matplotlib\\axes\\_axes.py:6448: UserWarning: The 'normed' kwarg is deprecated, and has been replaced by the 'density' kwarg.\n",
      "  warnings.warn(\"The 'normed' kwarg is deprecated, and has been \"\n"
     ]
    },
    {
     "data": {
      "text/plain": [
       "<matplotlib.axes._subplots.AxesSubplot at 0x1da0aa3e860>"
      ]
     },
     "execution_count": 13,
     "metadata": {},
     "output_type": "execute_result"
    },
    {
     "data": {
      "image/png": "[encoded data removed]",
      "text/plain": [
       "<Figure size 432x288 with 1 Axes>"
      ]
     },
     "metadata": {},
     "output_type": "display_data"
    }
   ],
   "source": [
    "lib_neg = liberal_s['neg']\n",
    "lib_neg.hist(normed = 0, histtype = 'stepfilled', alpha = 0.5)\n",
    "labour_neg = labor_s['neg']\n",
    "labour_neg.hist(normed = 0, histtype = 'stepfilled', alpha = 0.1, color = 'red')"
   ]
  },
  {
   "cell_type": "code",
   "execution_count": 14,
   "metadata": {},
   "outputs": [
    {
     "name": "stderr",
     "output_type": "stream",
     "text": [
      "C:\\Users\\jc498673\\AppData\\Local\\Continuum\\anaconda3\\envs\\COMP257\\lib\\site-packages\\matplotlib\\axes\\_axes.py:6448: UserWarning: The 'normed' kwarg is deprecated, and has been replaced by the 'density' kwarg.\n",
      "  warnings.warn(\"The 'normed' kwarg is deprecated, and has been \"\n"
     ]
    },
    {
     "data": {
      "text/plain": [
       "<matplotlib.axes._subplots.AxesSubplot at 0x1da0ad616d8>"
      ]
     },
     "execution_count": 14,
     "metadata": {},
     "output_type": "execute_result"
    },
    {
     "data": {
      "image/png": "[encoded data removed]",
      "text/plain": [
       "<Figure size 432x288 with 1 Axes>"
      ]
     },
     "metadata": {},
     "output_type": "display_data"
    }
   ],
   "source": [
    "lib_pos = liberal_s['pos']\n",
    "lib_pos.hist(normed = 0, histtype = 'stepfilled', alpha = 0.5)\n",
    "labour_pos = labor_s['pos']\n",
    "labour_pos.hist(normed = 0, histtype = 'stepfilled', alpha = 0.1, color = 'red')"
   ]
  },
  {
   "cell_type": "code",
   "execution_count": null,
   "metadata": {
    "collapsed": true
   },
   "outputs": [],
   "source": []
  }
 ],
 "metadata": {
  "kernelspec": {
   "display_name": "Python 3",
   "language": "python",
   "name": "python3"
  },
  "language_info": {
   "codemirror_mode": {
    "name": "ipython",
    "version": 3
   },
   "file_extension": ".py",
   "mimetype": "text/x-python",
   "name": "python",
   "nbconvert_exporter": "python",
   "pygments_lexer": "ipython3",
   "version": "3.6.3"
  }
 },
 "nbformat": 4,
 "nbformat_minor": 2
}
